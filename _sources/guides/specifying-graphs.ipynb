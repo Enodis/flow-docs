{
 "cells": [
  {
   "cell_type": "markdown",
   "id": "5b402372",
   "metadata": {},
   "source": [
    "# Specifying graphs\n",
    "\n",
    "```{admonition} Prerequisites\n",
    "\n",
    "* [You have installed Flow](installing)\n",
    "```\n",
    "\n",
    "In this guide you will learn how to create a flow graph from a number of flow\n",
    "node definitions. In the guide [\"Writing nodes\"](writing-nodes) you can learn\n",
    "how to define your own nodes, in this guide we are going to use a number of\n",
    "built-in flow nodes to construct a flow graph. We will also explore a few things\n",
    "that can be done with the flow graph once it is constructed.\n",
    "\n",
    "Specifying flow graphs is done with the `lang` module. The module responsible for the\n",
    "language that describes flow nodes and flow graphs. We need one components from\n",
    "this module:\n",
    "\n",
    "* {py:func}`graph <flow.lang.composition.graph>`: a context-manager that creates\n",
    "  a new {py:mod}`Model <flow.model.graph.Model>` and activates it such that it\n",
    "  will be used in the `with` statement when nodes are instantiated. nodes for\n",
    "  Python objects.\n",
    "\n",
    "We import this component as follows:"
   ]
  },
  {
   "cell_type": "code",
   "execution_count": 1,
   "id": "d044b81c",
   "metadata": {},
   "outputs": [],
   "source": [
    "from flow.lang import graph"
   ]
  },
  {
   "cell_type": "markdown",
   "id": "ad61c1ed",
   "metadata": {},
   "source": [
    "## Node instantiation\n",
    "\n",
    "A node is defined by the functionality it provides and the inputs and outputs it\n",
    "has, much like a normal function. And where a function needs to be *called* for\n",
    "it to be of any use, a *node* needs to be *instantiated*.\n",
    "\n",
    "Node *instantiation* does two to three things:\n",
    "\n",
    "1. It *creates a unique instance* for that node in the graph. The *instance*\n",
    "   manages the live behavior of the node. It is what will be configured,\n",
    "   connected, and updated during execution. The same node may be instantiated\n",
    "   again for another part of the same graph. \n",
    "2. It *configures the node*, if necessary. Some node require an initial\n",
    "   configuration, that may or may not be static throughout the execution.\n",
    "3. Instantiation may partially *connect the inputs* of a node, but this is not\n",
    "   mandatory.\n",
    "\n",
    "## The first example\n",
    "\n",
    "We are going to create a small data flow graph with a single *source* node that\n",
    "streams values from a fixed sequence to a *sink* node that stores the sequence in\n",
    "a list.\n",
    "\n",
    "````{margin}\n",
    "```{note}\n",
    "The packages {py:mod}`flow.lib.gen` and {py:mod}`flow.lib.out` come with flow \n",
    "and offer a number of simple nodes to stream values into  and out of a data flow \n",
    "graph.\n",
    "```\n",
    "````\n",
    "\n",
    "For the source node we will use {py:mod}`flow.lib.gen.values`, and for the sink\n",
    "node we will use {py:mod}`flow.lib.out.sequence`.\n",
    "\n",
    "To instantiate these we must call them, much like a constructor. The *positional\n",
    "arguments* of such node constructors *may* be used to connect input channels.\n",
    "This is optional, though. You can also choose to connect a node later.\n",
    "\n",
    "Configuration of a node is always done with *keyword arguments*.\n",
    "\n",
    "Let's examine the example:"
   ]
  },
  {
   "cell_type": "code",
   "execution_count": 2,
   "id": "908621f8",
   "metadata": {},
   "outputs": [],
   "source": [
    "from flow.lib import gen, out\n",
    "\n",
    "output = []\n",
    "\n",
    "with graph() as g:\n",
    "    vs = gen.values(values=range(10))\n",
    "    out.sequence(vs, out=output)"
   ]
  },
  {
   "cell_type": "markdown",
   "id": "3a75e2e8",
   "metadata": {},
   "source": [
    "Resulting in this graph:"
   ]
  },
  {
   "cell_type": "code",
   "execution_count": 3,
   "id": "ba07880a",
   "metadata": {
    "tags": [
     "remove-input"
    ]
   },
   "outputs": [
    {
     "data": {
      "image/svg+xml": [
       "<svg baseProfile=\"full\" height=\"100%\" version=\"1.1\" viewBox=\"25.0,5.0,475.0,40.0\" width=\"100%\" xmlns=\"http://www.w3.org/2000/svg\" xmlns:ev=\"http://www.w3.org/2001/xml-events\" xmlns:xlink=\"http://www.w3.org/1999/xlink\"><defs /><g><line stroke=\"lightgrey\" stroke-dasharray=\"2\" x1=\"50.0\" x2=\"49.0\" y1=\"15.0\" y2=\"15.0\" /><line stroke=\"lightgrey\" stroke-dasharray=\"2\" x1=\"50.0\" x2=\"49.0\" y1=\"35.0\" y2=\"35.0\" /></g><g><line stroke=\"#c65353\" stroke-width=\"2.0\" x1=\"35.0\" x2=\"35.0\" y1=\"15.0\" y2=\"35.0\" /></g><g /><g /><g><circle cx=\"35.0\" cy=\"15.0\" fill=\"#c65353\" r=\"6.0\" stroke=\"white\" stroke-width=\"2.0\" /><text dominant-baseline=\"middle\" font-family=\"sans-serif\" x=\"55.0\" y=\"15.0\">_values.0</text><circle cx=\"35.0\" cy=\"35.0\" fill=\"#c6c653\" r=\"6.0\" stroke=\"white\" stroke-width=\"2.0\" /><text dominant-baseline=\"middle\" font-family=\"sans-serif\" x=\"55.0\" y=\"35.0\">_sequence.1</text></g></svg>"
      ],
      "text/plain": [
       "<flow.model.graph.Model at 0x7fa0c4452610>"
      ]
     },
     "execution_count": 3,
     "metadata": {
      "filenames": {
       "image/svg+xml": "/home/runner/work/python-flow/python-flow/doc/_build/jupyter_execute/guides/specifying-graphs_5_0.svg"
      }
     },
     "output_type": "execute_result"
    }
   ],
   "source": [
    "g"
   ]
  },
  {
   "cell_type": "markdown",
   "id": "a88b9792",
   "metadata": {},
   "source": [
    "There are three things to note here. \n",
    "\n",
    "First, the nodes are constructed in a `with graph()` context. This creates a new\n",
    "data flow graph, and makes sure that any newly created node is added there. The\n",
    "data flow graph is made available in `g` and can be accessed later for\n",
    "inspection or execution.\n",
    "\n",
    "Second, the node constructed with the call to `gen.values` is captured in a\n",
    "variable, `vs`. Later on we can use this variable to connect the output\n",
    "of the node to other nodes.\n",
    "\n",
    "Third, the call to `out.sequence` mixes connecting an input with configuration.\n",
    "The variable `vs` is passed without a keyword and is thus treated as a streaming\n",
    "input, and the variable `output` is passed *with* keyword and is treated as\n",
    "configuration.\n",
    "\n",
    "\n",
    "## The streaming operator `>>`\n",
    "\n",
    "It happens very often that one node is only connected to the next which is again\n",
    "connected to the next, and so on, making a kind of chain of nodes. It is\n",
    "possible to write such chains by nesting the calls, but a more readable option\n",
    "is to use the streaming operator `>>`. Our example becomes:"
   ]
  },
  {
   "cell_type": "code",
   "execution_count": 4,
   "id": "e281c6db",
   "metadata": {},
   "outputs": [],
   "source": [
    "from flow.lib import gen, out\n",
    "\n",
    "output = []\n",
    "\n",
    "with graph() as g:\n",
    "    gen.values(values=range(10)) >> out.sequence(out=output)"
   ]
  },
  {
   "cell_type": "markdown",
   "id": "47a46bd9",
   "metadata": {},
   "source": [
    "But the strength of this operator is demonstrated better when create a chain,\n",
    "for example by taking the mean over a number of values:"
   ]
  },
  {
   "cell_type": "code",
   "execution_count": 5,
   "id": "22542f19",
   "metadata": {},
   "outputs": [],
   "source": [
    "from flow.lib import gen, arith, out\n",
    "\n",
    "output = []\n",
    "\n",
    "with graph() as g:\n",
    "    gen.values(values=range(10)) >> arith.mean(windows={\"vs\":5}) >> out.sequence(out=output)"
   ]
  },
  {
   "cell_type": "markdown",
   "id": "fdb7eec0",
   "metadata": {},
   "source": [
    "The windows configuration specifies that the *mean* is taken over each sequence\n",
    "of 5 values. The next section explores *windowing* in more details.\n",
    "\n",
    "## Windowing\n",
    "\n",
    "A channel models a steady stream of values from one node to another. By default,\n",
    "*Flow* assumes a node will produce and consumer a single value at a time from a\n",
    "channel. This behavior can be modified with the `windows` node configuration\n",
    "variable, a mapping from *port name* to *window size*.\n",
    "\n",
    "The window size associated with a port specifies the number of items that will\n",
    "be read or written from that port with each firing of the node. \n",
    "\n",
    "This means that a single channel has two window sizes, one for the producer and\n",
    "one for the consumer. When the window sizes of producer and consumer differ the\n",
    "firing rate will also differ by necessity. For example, when the producer writes\n",
    "2 items and the consumer reads 4 items, the producer will fire 2 times for every\n",
    "firing of the consumer.\n",
    "\n",
    "```{note}\n",
    "Currently *Flow* only supports a stride equal to the window size. A stride\n",
    "specification could be used to consume fewer items than the window size from a \n",
    "channel making nodes that need historical data, like low-pass filters, possible.\n",
    "```\n",
    "\n",
    "## Stream bundles\n",
    "\n",
    "Multiple channels can be grouped into a single object, called a *bundle*. Each\n",
    "channel in a bundle is named, something that is used to connect bundles to\n",
    "actors.\n",
    "\n",
    "When you connect a bundle to an actor the port names of the actor will be used\n",
    "to look-up channel names in the bundle, and only those will be connected.\n",
    "\n",
    "````{margin}\n",
    "```{note}\n",
    "At the time of writing this guide, the nodes in this example do not actually exist, they are merely used to demonstrated the use of *bundles*.\n",
    "```\n",
    "````\n",
    "\n",
    "Let's see how this work with an example. Suppose we have a simple graph that\n",
    "rebalances the left and right channel of an audio file and plays it on a\n",
    "speaker. The graph could look like this:\n",
    "\n",
    "```py\n",
    "@node(namespace=audio)\n",
    "@dataclass\n",
    "class rebalance:\n",
    "  left: Sequence[float]\n",
    "  right: Sequence[float]\n",
    "\n",
    "  def __init__(self, left: Sequence[float], right: Sequence[float], \n",
    "               *, left_right: float=0) -> None:\n",
    "      sf = 1-left_right if left_right>0 else 1\n",
    "      xf = 0-left_right if left_right<0 else 0\n",
    "      self.left  = [l*sf + r*xf for l, r in zip(left, right)]\n",
    "      self.right = [l*xf + r*sf for l, r in zip(left, right)]\n",
    "\n",
    "with graph() as g:\n",
    "    wave.read(\"file.wav\") >> audio.rebalance(left_right=0.8) >> audio.play()\n",
    "```\n",
    "\n",
    "Assuming the `wave.read` outputs a channel \"*left*\" and \"*right*\", this would\n",
    "automatically connect those outputs to proper ports of the `rebalance` node,\n",
    "and the same holds for the channel to `audio.play`.\n",
    "\n",
    "## Manual bundle\n",
    "\n",
    "It is possible to create a single bundle from multiple nodes using\n",
    "{py:mod}`flow.lang.composition.bundle`:"
   ]
  },
  {
   "cell_type": "code",
   "execution_count": 6,
   "id": "47dcf0ea",
   "metadata": {},
   "outputs": [
    {
     "data": {
      "image/svg+xml": [
       "<svg baseProfile=\"full\" height=\"100%\" version=\"1.1\" viewBox=\"25.0,5.0,475.0,60.0\" width=\"100%\" xmlns=\"http://www.w3.org/2000/svg\" xmlns:ev=\"http://www.w3.org/2001/xml-events\" xmlns:xlink=\"http://www.w3.org/1999/xlink\"><defs /><g><line stroke=\"lightgrey\" stroke-dasharray=\"2\" x1=\"70.0\" x2=\"69.0\" y1=\"15.0\" y2=\"15.0\" /><line stroke=\"lightgrey\" stroke-dasharray=\"2\" x1=\"50.0\" x2=\"69.0\" y1=\"35.0\" y2=\"35.0\" /><line stroke=\"lightgrey\" stroke-dasharray=\"2\" x1=\"50.0\" x2=\"69.0\" y1=\"55.0\" y2=\"55.0\" /></g><g><line stroke=\"#c6c653\" stroke-width=\"2.0\" x1=\"35.0\" x2=\"35.0\" y1=\"35.0\" y2=\"55.0\" /><line stroke=\"#c65353\" stroke-width=\"2.0\" x1=\"55.0\" x2=\"55.0\" y1=\"15.0\" y2=\"40.0\" /></g><g><line stroke=\"white\" stroke-width=\"6.0\" x1=\"35.0\" x2=\"40.0\" y1=\"55.0\" y2=\"55.0\" /></g><g><path d=\"M 55.0,40.0 a15.0,15.0 0 0,1 -15.0,15.0\" fill=\"none\" stroke=\"#c65353\" stroke-width=\"2.0\" /><line stroke=\"#c65353\" stroke-width=\"2.0\" x1=\"35.0\" x2=\"40.0\" y1=\"55.0\" y2=\"55.0\" /></g><g><circle cx=\"55.0\" cy=\"15.0\" fill=\"#c65353\" r=\"6.0\" stroke=\"white\" stroke-width=\"2.0\" /><text dominant-baseline=\"middle\" font-family=\"sans-serif\" x=\"75.0\" y=\"15.0\">_values.0</text><circle cx=\"35.0\" cy=\"35.0\" fill=\"#c6c653\" r=\"6.0\" stroke=\"white\" stroke-width=\"2.0\" /><text dominant-baseline=\"middle\" font-family=\"sans-serif\" x=\"75.0\" y=\"35.0\">_values.1</text><circle cx=\"35.0\" cy=\"55.0\" fill=\"#53c653\" r=\"6.0\" stroke=\"white\" stroke-width=\"2.0\" /><text dominant-baseline=\"middle\" font-family=\"sans-serif\" x=\"75.0\" y=\"55.0\">_interleave.2</text></g></svg>"
      ],
      "text/plain": [
       "<flow.model.graph.Model at 0x7fa0b4d06340>"
      ]
     },
     "execution_count": 6,
     "metadata": {
      "filenames": {
       "image/svg+xml": "/home/runner/work/python-flow/python-flow/doc/_build/jupyter_execute/guides/specifying-graphs_11_0.svg"
      }
     },
     "output_type": "execute_result"
    }
   ],
   "source": [
    "from flow.lang import bundle\n",
    "from flow.lib import gen\n",
    "from flow.lib.audio import wave\n",
    "\n",
    "with graph() as g:\n",
    "    l = gen.values(values=range(10))\n",
    "    r = gen.values(values=range(10))\n",
    "    bundle(left=l, right=r) >> wave.interleave()\n",
    "g"
   ]
  },
  {
   "cell_type": "markdown",
   "id": "983cd700",
   "metadata": {},
   "source": [
    "## Renaming channels in a bundle\n",
    "\n",
    "Sometimes the names of the channels do not match the names of the ports you want\n",
    "to connect to, for example when using generic nodes. In those cases you can use\n",
    "the convenience function {py:mod}`flow.lang.composition.rebundle` to create a\n",
    "bundle with some channels renamed:"
   ]
  },
  {
   "cell_type": "code",
   "execution_count": 7,
   "id": "0ed6f85a",
   "metadata": {},
   "outputs": [
    {
     "data": {
      "image/svg+xml": [
       "<svg baseProfile=\"full\" height=\"100%\" version=\"1.1\" viewBox=\"25.0,5.0,475.0,60.0\" width=\"100%\" xmlns=\"http://www.w3.org/2000/svg\" xmlns:ev=\"http://www.w3.org/2001/xml-events\" xmlns:xlink=\"http://www.w3.org/1999/xlink\"><defs /><g><line stroke=\"lightgrey\" stroke-dasharray=\"2\" x1=\"50.0\" x2=\"49.0\" y1=\"15.0\" y2=\"15.0\" /><line stroke=\"lightgrey\" stroke-dasharray=\"2\" x1=\"50.0\" x2=\"49.0\" y1=\"35.0\" y2=\"35.0\" /><line stroke=\"lightgrey\" stroke-dasharray=\"2\" x1=\"50.0\" x2=\"49.0\" y1=\"55.0\" y2=\"55.0\" /></g><g><line stroke=\"#c65353\" stroke-width=\"2.0\" x1=\"35.0\" x2=\"35.0\" y1=\"15.0\" y2=\"35.0\" /><line stroke=\"#c6c653\" stroke-width=\"2.0\" x1=\"35.0\" x2=\"35.0\" y1=\"35.0\" y2=\"55.0\" /></g><g /><g /><g><circle cx=\"35.0\" cy=\"15.0\" fill=\"#c65353\" r=\"6.0\" stroke=\"white\" stroke-width=\"2.0\" /><text dominant-baseline=\"middle\" font-family=\"sans-serif\" x=\"55.0\" y=\"15.0\">_deinterleave.0</text><circle cx=\"35.0\" cy=\"35.0\" fill=\"#c6c653\" r=\"6.0\" stroke=\"white\" stroke-width=\"2.0\" /><text dominant-baseline=\"middle\" font-family=\"sans-serif\" x=\"55.0\" y=\"35.0\">_binary_op.1</text><circle cx=\"35.0\" cy=\"55.0\" fill=\"#53c653\" r=\"6.0\" stroke=\"white\" stroke-width=\"2.0\" /><text dominant-baseline=\"middle\" font-family=\"sans-serif\" x=\"55.0\" y=\"55.0\">_LinePlot.2</text></g></svg>"
      ],
      "text/plain": [
       "<flow.model.graph.Model at 0x7fa0b4d1b280>"
      ]
     },
     "execution_count": 7,
     "metadata": {
      "filenames": {
       "image/svg+xml": "/home/runner/work/python-flow/python-flow/doc/_build/jupyter_execute/guides/specifying-graphs_13_0.svg"
      }
     },
     "output_type": "execute_result"
    }
   ],
   "source": [
    "from flow.lang import rebundle\n",
    "from flow.lib import plot, arith\n",
    "from flow.lib.audio import wave\n",
    "\n",
    "with graph() as g:\n",
    "   wave.deinterleave() >> rebundle(a=\"left\", b=\"right\") >> arith.add() >> plot.line()\n",
    "g"
   ]
  },
  {
   "cell_type": "markdown",
   "id": "08ceafb7",
   "metadata": {},
   "source": [
    "## Node views\n",
    "\n",
    "When a node has many input or output channels, it is sometimes useful to select\n",
    "the ones you want to connect. This can be achieved by indexing the node with the\n",
    "names of the ports of interest. For example, `node[\"input1\", \"output2\"]`, would\n",
    "return a view on `node` with only the ports `input1` and `output2`.\n",
    "\n",
    "At other times it is useful to create a view on a node but with different names\n",
    "for the ports. The {py:func}`view <flow.lang.composition.Node.view>` method can\n",
    "do what the `[]` operator can do *and* rename ports. It accepts a list of port\n",
    "names to select, and keyword arguments that select a port, but with another\n",
    "name.\n",
    "\n",
    "Then there are the\n",
    "{py:func}`inputs <flow.lang.composition.Node.inputs>` and\n",
    "{py:func}`outputs <flow.lang.composition.Node.outputs>` methods give\n",
    "a view with only the input and output ports. Of course, all of these methods \n",
    "are also available on the view itself.\n",
    "\n",
    "## Connecting ports\n",
    "\n",
    "So there is a plethora of choices in how to connect one port to another. This\n",
    "section will give a short example of each choice and explain how it works.\n",
    "\n",
    "### Straighforward connection"
   ]
  },
  {
   "cell_type": "code",
   "execution_count": 8,
   "id": "e3495c86",
   "metadata": {},
   "outputs": [],
   "source": [
    "with graph() as g:\n",
    "   gen.values(values=range(20)) >> plot.line().view()"
   ]
  },
  {
   "cell_type": "markdown",
   "id": "b87c5524",
   "metadata": {},
   "source": [
    "The producer `gen.values` has a single output port and the consumer `plot.line`\n",
    "has a single input port. Such 1:1 connections will be made regardless of the name.\n",
    "\n",
    "### Producer port selection"
   ]
  },
  {
   "cell_type": "code",
   "execution_count": 9,
   "id": "a634030b",
   "metadata": {},
   "outputs": [],
   "source": [
    "with graph() as g:\n",
    "   wave.deinterleave()[\"left\"] >> plot.line()"
   ]
  },
  {
   "cell_type": "markdown",
   "id": "90fd96fe",
   "metadata": {},
   "source": [
    "The producer `wave.deinterleave` has a two output ports: *left* and *right*. The\n",
    "consumer `plot.line` has a single input port, *values*. The `[]` operator\n",
    "creates a view on `wave.deinterleave` with just a single port: *left*. The\n",
    "connection to the input port of `plot.line` is made because this is also a 1:1\n",
    "connection.\n",
    "\n",
    "### Renaming with rebundle"
   ]
  },
  {
   "cell_type": "code",
   "execution_count": 10,
   "id": "0299c3c5",
   "metadata": {},
   "outputs": [],
   "source": [
    "with graph() as g:\n",
    "   wave.deinterleave() >> rebundle(values=\"left\") >> plot.line()"
   ]
  },
  {
   "cell_type": "markdown",
   "id": "8461d4cf",
   "metadata": {},
   "source": [
    "The producer `wave.deinterleave` has a two output ports: *left* and *right*. The\n",
    "consumer `plot.line` has a single input port, *values*. The `rebundle` call creates\n",
    "a new bundle from the outputs of `wave.deinterleave` where the channel `left` is\n",
    "selected and renamed to `values`.\n",
    "\n",
    "### Renaming with a producer view"
   ]
  },
  {
   "cell_type": "code",
   "execution_count": 11,
   "id": "a0909694",
   "metadata": {},
   "outputs": [],
   "source": [
    "with graph() as g:\n",
    "   wave.deinterleave().view(left=\"values\") >> plot.line()"
   ]
  },
  {
   "cell_type": "markdown",
   "id": "bb71338c",
   "metadata": {},
   "source": [
    "The producer `wave.deinterleave` has a two output ports: *left* and *right*. The\n",
    "consumer `plot.line` has a single input port, *values*. The call to `view`\n",
    "creates a view of the producer where the output port `left` is renamed to\n",
    "`values`, which nicely matches the input port of `plot.line`\n",
    "\n",
    "### Renaming with a consumer view"
   ]
  },
  {
   "cell_type": "code",
   "execution_count": 12,
   "id": "b64d6604",
   "metadata": {},
   "outputs": [],
   "source": [
    "with graph() as g:\n",
    "   wave.deinterleave() >> plot.line().view(values=\"left\")"
   ]
  },
  {
   "cell_type": "markdown",
   "id": "3d0bbb5a",
   "metadata": {},
   "source": [
    "The producer `wave.deinterleave` has a two output ports: *left* and *right*. The\n",
    "consumer `plot.line` has a single input port, *values*. The call to `view`\n",
    "creates a view of the consumer where the input port `values` is renamed to\n",
    "`left`, which nicely matches the output port of `wave.deinterleave`."
   ]
  }
 ],
 "metadata": {
  "jupytext": {
   "cell_metadata_filter": "-all",
   "formats": "md:myst",
   "text_representation": {
    "extension": ".md",
    "format_name": "myst",
    "format_version": 0.13,
    "jupytext_version": "1.11.5"
   }
  },
  "kernelspec": {
   "display_name": "Python 3",
   "language": "python",
   "name": "python3"
  },
  "language_info": {
   "codemirror_mode": {
    "name": "ipython",
    "version": 3
   },
   "file_extension": ".py",
   "mimetype": "text/x-python",
   "name": "python",
   "nbconvert_exporter": "python",
   "pygments_lexer": "ipython3",
   "version": "3.8.16"
  },
  "source_map": [
   14,
   40,
   42,
   86,
   94,
   98,
   103,
   129,
   136,
   141,
   148,
   221,
   231,
   240,
   248,
   276,
   279,
   286,
   289,
   299,
   302,
   311,
   314,
   323,
   326
  ]
 },
 "nbformat": 4,
 "nbformat_minor": 5
}