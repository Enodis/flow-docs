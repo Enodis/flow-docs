{
 "cells": [
  {
   "cell_type": "markdown",
   "id": "8591e3ff",
   "metadata": {},
   "source": [
    "# Windowing\n",
    "\n",
    "```{admonition} Prerequisites\n",
    "\n",
    "* [You have installed Flow](installing)\n",
    "* [You can specify graphs](specifying-graphs)\n",
    "* Optional: [You can create nodes](writing-nodes)\n",
    "```\n",
    "\n",
    "In this guide you will learn how to specify, with each firing, the number of\n",
    "input values a node must consume on an input port, and the number of output\n",
    "values a node will produce on an output port. The term we use for \"the number of\n",
    "values\" is *window size*, where the *window* is the sequence of value a node\n",
    "will \"see\" at a firing.\n",
    "\n",
    "The first part will cover how to specify window sizes when you specify a graph.\n",
    "The second part will cover how to use window size when you write your own nodes.\n",
    "\n",
    "## Specifying window size\n",
    "\n",
    "The window size can be specified for input ports and output ports. For an input port it signifies the number of values that will be consumed from the channel and passed to the node with each firing. For an output port it signifies the number of values that will be produced on the connected channel with each firing.\n",
    "\n",
    "In the example below we read a soundbite from a file and stream it to an audio playback node. Without any window specification this would be done sample-by-sample, each firing producing and consuming 1 sample, leading to a lot of overhead."
   ]
  },
  {
   "cell_type": "code",
   "execution_count": 1,
   "id": "11824489",
   "metadata": {},
   "outputs": [],
   "source": [
    "from flow.lang import graph\n",
    "from flow.lib import plot\n",
    "from flow.lib.audio import wave\n",
    "\n",
    "with graph() as wp:\n",
    "    wave.read_wav(\n",
    "        filename=\"StarWars3.wav\", \n",
    "        windows={\"out\":256}\n",
    "    ) >> plot.line(\n",
    "        ymin=-32768, \n",
    "        ymax=32767, \n",
    "        maxt=100, \n",
    "        windows={\"values\":32}\n",
    "    )"
   ]
  },
  {
   "cell_type": "markdown",
   "id": "663de465",
   "metadata": {},
   "source": [
    "As you can see, both node specification include a configuration for `windows`. This configuration variable is recognized and interpreted by Flow. It expects a dictionary where the keys are port names, either input or output ports, and the values are the sizes of the windows.\n",
    "\n",
    "In this example `wave.read_wav` produces 256 samples with each firing, and `plot.line` consumes 32 samples with each firing. As a result, each firing of `wave.read_wav` must result in 8 firings of `plot.line`.\n",
    "\n",
    "```{warning}\n",
    "\n",
    "Depending on the node implementation, not all combinations of window sizes are allowed. Currently, a bad configuration of window size will at best lead to an exception.\n",
    "```\n",
    "\n",
    "## Using window size in a node implementation\n",
    "\n",
    "When implementing a node it can be useful to have the window size that is expected on an output port. For this purpose the node can request the configuration argument `windows`. \n",
    "\n",
    "If one of the configuration keyword arguments of a node is called `windows`, flow will pass the final window size configuration mapping in this argument. \n",
    "\n",
    "Take the node `values` from {py:mod}`flow.lib.gen`. It streams values from a fixed sequence, configurable with the `values` argument, to its output. The window size determines how many values are passed with each firing:\n",
    "\n",
    "```{literalinclude} ../../flow/lib/gen.py\n",
    "---\n",
    "linenos: yes\n",
    "pyobject: _values\n",
    "---\n",
    "```\n",
    "\n",
    "The output port is called `out`, the default output port name if none can be deduced from the definition. In this implementation the `windows` mapping used to produce the correct number of values on the output."
   ]
  }
 ],
 "metadata": {
  "jupytext": {
   "cell_metadata_filter": "-all",
   "formats": "md:myst",
   "text_representation": {
    "extension": ".md",
    "format_name": "myst",
    "format_version": 0.13,
    "jupytext_version": "1.11.5"
   }
  },
  "kernelspec": {
   "display_name": "Python 3",
   "language": "python",
   "name": "python3"
  },
  "language_info": {
   "codemirror_mode": {
    "name": "ipython",
    "version": 3
   },
   "file_extension": ".py",
   "mimetype": "text/x-python",
   "name": "python",
   "nbconvert_exporter": "python",
   "pygments_lexer": "ipython3",
   "version": "3.8.16"
  },
  "source_map": [
   14,
   40,
   55
  ]
 },
 "nbformat": 4,
 "nbformat_minor": 5
}