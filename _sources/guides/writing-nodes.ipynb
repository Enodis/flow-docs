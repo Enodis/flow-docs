{
 "cells": [
  {
   "cell_type": "markdown",
   "id": "3f505c14",
   "metadata": {},
   "source": [
    "# Writing Flow Nodes\n",
    "\n",
    "```{admonition} Prerequisites\n",
    "\n",
    "* [You have installed Flow](installing)\n",
    "```\n",
    "\n",
    "In this guide you will learn how to define and use your own flow nodes. We will\n",
    "touch on constructing a flow graph, for the simple reason that you need to know\n",
    "how to apply the nodes you define yourself, but otherwise leave the topic of\n",
    "constructing flow graphs to the guide [\"specifying graphs\"](specifying-graphs).\n",
    "\n",
    "Defining nodes is done with the `lang` module. The module responsible for the\n",
    "language that describes flow nodes and flow graphs. We need two components from\n",
    "this module:\n",
    "\n",
    "* {py:func}`node <flow.lang.definition.node>`: a decorator that creates flow\n",
    "  nodes for Python objects.\n",
    "* {py:func}`Namespace <flow.lang.definition.Namespace>`: the class where, by\n",
    "  default, all flow nodes will be defined. Don't worry, this will become clear\n",
    "  below.\n",
    "\n",
    "We import these component as follows:"
   ]
  },
  {
   "cell_type": "code",
   "execution_count": 1,
   "id": "ec2ee83d",
   "metadata": {},
   "outputs": [
    {
     "ename": "ModuleNotFoundError",
     "evalue": "No module named 'flow'",
     "output_type": "error",
     "traceback": [
      "\u001b[0;31m---------------------------------------------------------------------------\u001b[0m",
      "\u001b[0;31mModuleNotFoundError\u001b[0m                       Traceback (most recent call last)",
      "Cell \u001b[0;32mIn[1], line 1\u001b[0m\n\u001b[0;32m----> 1\u001b[0m \u001b[38;5;28;01mfrom\u001b[39;00m \u001b[38;5;21;01mflow\u001b[39;00m\u001b[38;5;21;01m.\u001b[39;00m\u001b[38;5;21;01mlang\u001b[39;00m \u001b[38;5;28;01mimport\u001b[39;00m node, Namespace\n",
      "\u001b[0;31mModuleNotFoundError\u001b[0m: No module named 'flow'"
     ]
    }
   ],
   "source": [
    "from flow.lang import node, Namespace"
   ]
  },
  {
   "cell_type": "markdown",
   "id": "3b8525d7",
   "metadata": {},
   "source": [
    "## Functions\n",
    "\n",
    "One of the simplest ways to define a Flow node is with a function:"
   ]
  },
  {
   "cell_type": "code",
   "execution_count": null,
   "id": "54ecc33b",
   "metadata": {},
   "outputs": [],
   "source": [
    "@node\n",
    "def offset(value, *, delta):\n",
    "    return value+delta"
   ]
  },
  {
   "cell_type": "markdown",
   "id": "5be415a1",
   "metadata": {},
   "source": [
    "This will add a function `offset` to the class `Namespace`, but otherwise leave\n",
    "the decorated function intact. You can still call it as you normally would:"
   ]
  },
  {
   "cell_type": "code",
   "execution_count": null,
   "id": "fb41e53e",
   "metadata": {},
   "outputs": [],
   "source": [
    "print(offset(40, delta=2))"
   ]
  },
  {
   "cell_type": "markdown",
   "id": "c4fecf59",
   "metadata": {},
   "source": [
    "There now is a method `Namespace.offset` which is a *node constructor*. Calling\n",
    "this method, in the appropriate context, will create a node to which values can\n",
    "be streamed, and which will output those values with an offset.\n",
    "\n",
    "## Generators\n",
    "\n",
    "Generators can also be turned into Flow nodes, and are particularly well suited a *source* nodes. These are nodes that only have ouputs, where they generate data."
   ]
  },
  {
   "cell_type": "code",
   "execution_count": null,
   "id": "cea9312f",
   "metadata": {},
   "outputs": [],
   "source": [
    "@node\n",
    "def source():\n",
    "    for i in range(10):\n",
    "        yield i"
   ]
  },
  {
   "cell_type": "markdown",
   "id": "f2da835c",
   "metadata": {},
   "source": [
    "The node created from this generator is self-activated, it will output a stream of\n",
    "10 values and stop.\n",
    "\n",
    "## Data classes\n",
    "\n",
    "So far nodes have had single outputs. Even if a function would return a tuple,\n",
    "it would be considered a single output. What if we want to create a node that\n",
    "has multiple outputs?\n",
    "\n",
    "For this we can use a `dataclass` which we must import from\n",
    "[dataclasses](https://docs.python.org/3/library/dataclasses.html)."
   ]
  },
  {
   "cell_type": "code",
   "execution_count": null,
   "id": "efe14f3d",
   "metadata": {},
   "outputs": [],
   "source": [
    "from dataclasses import dataclass"
   ]
  },
  {
   "cell_type": "markdown",
   "id": "c36c0ad3",
   "metadata": {},
   "source": [
    "A dataclass is a convient construct created in Python 3 for the construction of\n",
    "classes that, mostly, just contain data fields. When we turn it into a node, by\n",
    "add the `@node` decorator like we did in the previous section, we create a node\n",
    "with one output for each field in the dataclass."
   ]
  },
  {
   "cell_type": "code",
   "execution_count": null,
   "id": "33d3409a",
   "metadata": {},
   "outputs": [],
   "source": [
    "@node\n",
    "@dataclass\n",
    "class DivMod:\n",
    "    quotient: int\n",
    "    remainder: int\n",
    "\n",
    "    def __init__(self, a, b):\n",
    "        self.quotient, self.remainder = divmod(a,b)"
   ]
  },
  {
   "cell_type": "markdown",
   "id": "6fd393c2",
   "metadata": {},
   "source": [
    "This will add `DivMod` as a node constructor to the `Namespace` class. It will\n",
    "need two inputs, and it will, simultaneously, produce two outputs. \n",
    "\n",
    "## Stateful Nodes\n",
    "\n",
    "It is also possible to create nodes with *state*. The output of such nodes does\n",
    "not solely depend on the inputs, but also on the internal state. Nodes like this\n",
    "can be defined using a class that is derived from {py:func}`Firable <flow.lang.helpers.Firable>`:"
   ]
  },
  {
   "cell_type": "code",
   "execution_count": null,
   "id": "e890dbf4",
   "metadata": {},
   "outputs": [],
   "source": [
    "from flow.lang import Firable\n",
    "\n",
    "@node\n",
    "class accumulate(Firable):\n",
    "    def __init__(self, *, start=1):\n",
    "        self.start = start\n",
    "\n",
    "    def fire(self, a) -> int:\n",
    "        self.start += a\n",
    "        return self.start"
   ]
  },
  {
   "cell_type": "markdown",
   "id": "cf2a11ac",
   "metadata": {},
   "source": [
    "Firable nodes must have a method called `fire`. This method is responsible for\n",
    "computing new output values given the latest input values and state, and for\n",
    "updating the state.\n",
    "\n",
    "## The nodes in action\n",
    "\n",
    "We can execute the nodes we have just created by constructing a *flow graph* and\n",
    "giving that to a *processor*. But before we do this, we need to create one more\n",
    "node. We need the data to go somewhere. It needs to have an endpoint. We need to\n",
    "define a *sink*, a node with only inputs."
   ]
  },
  {
   "cell_type": "code",
   "execution_count": null,
   "id": "b7c78fd1",
   "metadata": {},
   "outputs": [],
   "source": [
    "@node\n",
    "def sink(v, w):\n",
    "    print(v, w)"
   ]
  },
  {
   "cell_type": "markdown",
   "id": "1451e38e",
   "metadata": {},
   "source": [
    "The `sink` definition should be familiar. The only difference with `offset` is\n",
    "that it does not return a value, and hence will not create a node that has an\n",
    "output.\n",
    "\n",
    "With that done, we can construct if we import one more component from the `lang`\n",
    "module:\n",
    "\n",
    "* {py:func}`graph <flow.lang.composition.graph>`: a context manager that should be used when creating flow graphs.\n",
    "\n",
    "Giving us:"
   ]
  },
  {
   "cell_type": "code",
   "execution_count": null,
   "id": "02464ecb",
   "metadata": {},
   "outputs": [],
   "source": [
    "from flow.lang import graph\n",
    "\n",
    "with graph() as g:\n",
    "    s1 = Namespace.source() \n",
    "    dm = Namespace.DivMod(Namespace.accumulate(s1), Namespace.offset(s1, delta=4))\n",
    "    dm >> Namespace.sink().view(v=\"quotient\", w=\"remainder\")"
   ]
  },
  {
   "cell_type": "markdown",
   "id": "bf725309",
   "metadata": {},
   "source": [
    "The `>>` notation is another part of the flow language, and is described in more\n",
    "detail in [this guide](specifying-graphs). For this guide you should understand\n",
    "that it specifies streaming from left to right. In this case *source* has a\n",
    "single output which will stream to the single input of *accumulate* and\n",
    "*offset*. *accumulate* has a single output which will stream to the first input\n",
    "of *DivMod*, and *offset* has a single output which will stream to the second\n",
    "input of *DivMod*. *DivMod* has two outputs which will both be streamed to\n",
    "*sink*.\n",
    "\n",
    "Drawing the graph in a notebook is as simple as follows:"
   ]
  },
  {
   "cell_type": "code",
   "execution_count": null,
   "id": "7f10913a",
   "metadata": {},
   "outputs": [],
   "source": [
    "g"
   ]
  },
  {
   "cell_type": "markdown",
   "id": "6799559b",
   "metadata": {},
   "source": [
    "We can create an example trace of the execution in a sequence diagram (in this\n",
    "case for a range of 3 integers):\n",
    "\n",
    "| source   | c1      | offset   |  c2       |accumulate| c3      | c4      | divmod   | c5      | c6      | sink     |\n",
    "|:--------:|:-------:|:--------:|:---------:|:--------:|:-------:|:-------:|:--------:|:-------:|:-------:|:--------:|\n",
    "| **fire** | **0**   |          | **0**     |          |         |         |          |         |         |          |\n",
    "| **fire** | **1**,0 |          | **1**,0   |          |         |         |          |         |         |          |\n",
    "| **fire** | **2**,1 | **fire** | **2**,1,0 |          | **4**   |         |          |         |         |          |\n",
    "|          | 2,1     |          | 2,1       | **fire** | 4       | **1**   |          |         |         |          |\n",
    "|          | 2,1     |          | 2,1       |          |         |         | **fire** | **0**   | **1**   |          |\n",
    "|          | 2       | **fire** | 2,1       |          | **5**   |         |          | 0       | 1       |          |\n",
    "|          | 2       |          | 2         | **fire** | 5       | **2**   |          | 0       | 1       |          |\n",
    "|          |         | **fire** | 2         |          | **6**,5 | 2       |          | 0       | 1       |          |\n",
    "|          |         |          |           | **fire** | 6,5     | **4**,2 |          | 0       | 1       |          |\n",
    "|          |         |          |           |          | 6       | 4       | **fire** | **0**   | **2**   | **fire** |\n",
    "|          |         |          |           |          |         |         | **fire** | **0**,0 | **4**,2 |          |\n",
    "|          |         |          |           |          |         |         |          | 0       | 4       | **fire** |\n",
    "|          |         |          |           |          |         |         |          |         |         | **fire** |\n",
    "\n",
    "\n",
    "This table shows the behavior of the nodes and channels during execution. The\n",
    "nodes consume input values from channels and produce output values to channels.\n",
    "The channels are FIFO's, meaning the order in which values are put into it by\n",
    "the producer is the same as the order in which the consumer will take them out\n",
    "again.\n",
    "\n",
    "To execute this flow graph we need a processor. The simplest processor is the\n",
    "*offline* processor, which can be used as follows:"
   ]
  },
  {
   "cell_type": "code",
   "execution_count": null,
   "id": "36ef71e2",
   "metadata": {
    "tags": [
     "hide-output"
    ]
   },
   "outputs": [],
   "source": [
    "from flow.processor.offline import OfflineProcessor\n",
    "\n",
    "OfflineProcessor().execute(g)"
   ]
  }
 ],
 "metadata": {
  "jupytext": {
   "cell_metadata_filter": "-all",
   "formats": "md:myst",
   "text_representation": {
    "extension": ".md",
    "format_name": "myst",
    "format_version": 0.13,
    "jupytext_version": "1.11.5"
   }
  },
  "kernelspec": {
   "display_name": "Python 3",
   "language": "python",
   "name": "python3"
  },
  "language_info": {
   "codemirror_mode": {
    "name": "ipython",
    "version": 3
   },
   "file_extension": ".py",
   "mimetype": "text/x-python",
   "name": "python",
   "nbconvert_exporter": "python",
   "pygments_lexer": "ipython3",
   "version": "3.8.16"
  },
  "source_map": [
   14,
   40,
   42,
   48,
   52,
   57,
   59,
   69,
   74,
   87,
   89,
   96,
   105,
   116,
   127,
   140,
   144,
   157,
   164,
   177,
   179,
   210
  ]
 },
 "nbformat": 4,
 "nbformat_minor": 5
}